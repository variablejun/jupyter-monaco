{
 "cells": [
  {
   "cell_type": "code",
   "execution_count": 2,
   "metadata": {
    "collapsed": true
   },
   "outputs": [
    {
     "data": {
      "text/plain": "'\\n- (1) pivot(), pd.pivot_table() 1\\n\\n - (2) stack(), unstack()\\n\\n - (3) melt() 2\\n\\n - (4) wide_to_long()\\n\\n - (5) pd.crosstab()\\n'"
     },
     "execution_count": 2,
     "metadata": {},
     "output_type": "execute_result"
    }
   ],
   "source": [
    "import pandas as pd\n",
    "import numpy as np\n",
    "from icecream import ic\n",
    "'''\n",
    "- (1) pivot() 1\n",
    "\n",
    " - (2) stack(), unstack()\n",
    "\n",
    " - (3) melt() 2\n",
    "\n",
    " - (4) wide_to_long()\n",
    "\n",
    " - (5) pd.crosstab()\n",
    "'''\n"
   ]
  },
  {
   "cell_type": "code",
   "execution_count": 4,
   "outputs": [
    {
     "name": "stderr",
     "output_type": "stream",
     "text": [
      "ic| df:   customer_id product_code grade  purchase_amount\n",
      "        0         kim          com     A               30\n",
      "        1         lee        phone     A               10\n",
      "        2        park           tv     A                0\n",
      "        3        song          com     A               40\n",
      "        4        yoon        phone     A               15\n",
      "        5        kang           tv     A               30\n",
      "        6         tak          com     B                0\n",
      "        7         ryu        phone     B                0\n",
      "        8        jang           tv     B               10\n",
      "ic| df: product_code   com  phone    tv\n",
      "        customer_id                    \n",
      "        jang           NaN    NaN  10.0\n",
      "        kang           NaN    NaN  30.0\n",
      "        kim           30.0    NaN   NaN\n",
      "        lee            NaN   10.0   NaN\n",
      "        park           NaN    NaN   0.0\n",
      "        ryu            NaN    0.0   NaN\n",
      "        song          40.0    NaN   NaN\n",
      "        tak            0.0    NaN   NaN\n",
      "        yoon           NaN   15.0   NaN\n"
     ]
    },
    {
     "data": {
      "text/plain": "product_code   com  phone    tv\ncustomer_id                    \njang           NaN    NaN  10.0\nkang           NaN    NaN  30.0\nkim           30.0    NaN   NaN\nlee            NaN   10.0   NaN\npark           NaN    NaN   0.0\nryu            NaN    0.0   NaN\nsong          40.0    NaN   NaN\ntak            0.0    NaN   NaN\nyoon           NaN   15.0   NaN",
      "text/html": "<div>\n<style scoped>\n    .dataframe tbody tr th:only-of-type {\n        vertical-align: middle;\n    }\n\n    .dataframe tbody tr th {\n        vertical-align: top;\n    }\n\n    .dataframe thead th {\n        text-align: right;\n    }\n</style>\n<table border=\"1\" class=\"dataframe\">\n  <thead>\n    <tr style=\"text-align: right;\">\n      <th>product_code</th>\n      <th>com</th>\n      <th>phone</th>\n      <th>tv</th>\n    </tr>\n    <tr>\n      <th>customer_id</th>\n      <th></th>\n      <th></th>\n      <th></th>\n    </tr>\n  </thead>\n  <tbody>\n    <tr>\n      <th>jang</th>\n      <td>NaN</td>\n      <td>NaN</td>\n      <td>10.0</td>\n    </tr>\n    <tr>\n      <th>kang</th>\n      <td>NaN</td>\n      <td>NaN</td>\n      <td>30.0</td>\n    </tr>\n    <tr>\n      <th>kim</th>\n      <td>30.0</td>\n      <td>NaN</td>\n      <td>NaN</td>\n    </tr>\n    <tr>\n      <th>lee</th>\n      <td>NaN</td>\n      <td>10.0</td>\n      <td>NaN</td>\n    </tr>\n    <tr>\n      <th>park</th>\n      <td>NaN</td>\n      <td>NaN</td>\n      <td>0.0</td>\n    </tr>\n    <tr>\n      <th>ryu</th>\n      <td>NaN</td>\n      <td>0.0</td>\n      <td>NaN</td>\n    </tr>\n    <tr>\n      <th>song</th>\n      <td>40.0</td>\n      <td>NaN</td>\n      <td>NaN</td>\n    </tr>\n    <tr>\n      <th>tak</th>\n      <td>0.0</td>\n      <td>NaN</td>\n      <td>NaN</td>\n    </tr>\n    <tr>\n      <th>yoon</th>\n      <td>NaN</td>\n      <td>15.0</td>\n      <td>NaN</td>\n    </tr>\n  </tbody>\n</table>\n</div>"
     },
     "execution_count": 4,
     "metadata": {},
     "output_type": "execute_result"
    }
   ],
   "source": [
    "df = pd.DataFrame({\"customer_id\":['kim','lee','park','song','yoon','kang','tak','ryu','jang'],\n",
    "               \"product_code\":['com','phone','tv','com','phone','tv','com','phone','tv'],\n",
    "               \"grade\":['A','A','A','A','A','A','B','B','B'],\n",
    "               \"purchase_amount\":[30,10,0,40,15,30,0,0,10]})\n",
    "\n",
    "ic(df)\n",
    "df = df.pivot(index='customer_id', columns=\"product_code\", values=\"purchase_amount\")\n",
    "ic(df)\n",
    "\n"
   ],
   "metadata": {
    "collapsed": false,
    "pycharm": {
     "name": "#%%다음 객체를 customer_id 를 인덱스로하고 product_code 를 컬럼으로, purchare_amount 를 값으로, 재구성하시오\n"
    }
   }
  },
  {
   "cell_type": "code",
   "execution_count": 36,
   "outputs": [
    {
     "name": "stderr",
     "output_type": "stream",
     "text": [
      "ic| df: product_code        com  phone    tv\n",
      "        customer_id grade                   \n",
      "        jang        B       NaN    NaN  10.0\n",
      "        kang        A       NaN    NaN  30.0\n",
      "        kim         A      30.0    NaN   NaN\n",
      "        lee         A       NaN   10.0   NaN\n",
      "        park        A       NaN    NaN   0.0\n",
      "        ryu         B       NaN    0.0   NaN\n",
      "        song        A      40.0    NaN   NaN\n",
      "        tak         B       0.0    NaN   NaN\n",
      "        yoon        A       NaN   15.0   NaN\n"
     ]
    },
    {
     "data": {
      "text/plain": "product_code        com  phone    tv\ncustomer_id grade                   \njang        B       NaN    NaN  10.0\nkang        A       NaN    NaN  30.0\nkim         A      30.0    NaN   NaN\nlee         A       NaN   10.0   NaN\npark        A       NaN    NaN   0.0\nryu         B       NaN    0.0   NaN\nsong        A      40.0    NaN   NaN\ntak         B       0.0    NaN   NaN\nyoon        A       NaN   15.0   NaN",
      "text/html": "<div>\n<style scoped>\n    .dataframe tbody tr th:only-of-type {\n        vertical-align: middle;\n    }\n\n    .dataframe tbody tr th {\n        vertical-align: top;\n    }\n\n    .dataframe thead th {\n        text-align: right;\n    }\n</style>\n<table border=\"1\" class=\"dataframe\">\n  <thead>\n    <tr style=\"text-align: right;\">\n      <th></th>\n      <th>product_code</th>\n      <th>com</th>\n      <th>phone</th>\n      <th>tv</th>\n    </tr>\n    <tr>\n      <th>customer_id</th>\n      <th>grade</th>\n      <th></th>\n      <th></th>\n      <th></th>\n    </tr>\n  </thead>\n  <tbody>\n    <tr>\n      <th>jang</th>\n      <th>B</th>\n      <td>NaN</td>\n      <td>NaN</td>\n      <td>10.0</td>\n    </tr>\n    <tr>\n      <th>kang</th>\n      <th>A</th>\n      <td>NaN</td>\n      <td>NaN</td>\n      <td>30.0</td>\n    </tr>\n    <tr>\n      <th>kim</th>\n      <th>A</th>\n      <td>30.0</td>\n      <td>NaN</td>\n      <td>NaN</td>\n    </tr>\n    <tr>\n      <th>lee</th>\n      <th>A</th>\n      <td>NaN</td>\n      <td>10.0</td>\n      <td>NaN</td>\n    </tr>\n    <tr>\n      <th>park</th>\n      <th>A</th>\n      <td>NaN</td>\n      <td>NaN</td>\n      <td>0.0</td>\n    </tr>\n    <tr>\n      <th>ryu</th>\n      <th>B</th>\n      <td>NaN</td>\n      <td>0.0</td>\n      <td>NaN</td>\n    </tr>\n    <tr>\n      <th>song</th>\n      <th>A</th>\n      <td>40.0</td>\n      <td>NaN</td>\n      <td>NaN</td>\n    </tr>\n    <tr>\n      <th>tak</th>\n      <th>B</th>\n      <td>0.0</td>\n      <td>NaN</td>\n      <td>NaN</td>\n    </tr>\n    <tr>\n      <th>yoon</th>\n      <th>A</th>\n      <td>NaN</td>\n      <td>15.0</td>\n      <td>NaN</td>\n    </tr>\n  </tbody>\n</table>\n</div>"
     },
     "execution_count": 36,
     "metadata": {},
     "output_type": "execute_result"
    }
   ],
   "source": [
    "df = pd.DataFrame({\"customer_id\":['kim','lee','park','song','yoon','kang','tak','ryu','jang'],\n",
    "               \"product_code\":['com','phone','tv','com','phone','tv','com','phone','tv'],\n",
    "               \"grade\":['A','A','A','A','A','A','B','B','B'],\n",
    "               \"purchase_amount\":[30,10,0,40,15,30,0,0,10]})\n",
    "df = df.pivot_table(index=['customer_id',\"grade\"], columns=\"product_code\", values=\"purchase_amount\")\n",
    "ic(df)"
   ],
   "metadata": {
    "collapsed": false,
    "pycharm": {
     "name": "#%%31 다음 객체를 customer_id, grade 를 인덱스로하고 product_code 를 컬럼으로, purchare_amount 를 값으로, 재구성하시오\n"
    }
   }
  },
  {
   "cell_type": "code",
   "execution_count": 46,
   "outputs": [
    {
     "name": "stderr",
     "output_type": "stream",
     "text": [
      "ic| df.stack(dropna=True): kim  2019  com       0\n",
      "                                      phone     1\n",
      "                                      tv        2\n",
      "                                      note      3\n",
      "                                2020  com       4\n",
      "                                      phone     5\n",
      "                                      tv        6\n",
      "                                      note      7\n",
      "                           lee  2019  com       8\n",
      "                                      phone     9\n",
      "                                      tv       10\n",
      "                                      note     11\n",
      "                                2020  com      12\n",
      "                                      phone    13\n",
      "                                      tv       14\n",
      "                                      note     15\n",
      "                           dtype: int32\n"
     ]
    },
    {
     "data": {
      "text/plain": "kim  2019  com       0\n           phone     1\n           tv        2\n           note      3\n     2020  com       4\n           phone     5\n           tv        6\n           note      7\nlee  2019  com       8\n           phone     9\n           tv       10\n           note     11\n     2020  com      12\n           phone    13\n           tv       14\n           note     15\ndtype: int32"
     },
     "execution_count": 46,
     "metadata": {},
     "output_type": "execute_result"
    }
   ],
   "source": [
    "# ic(type(df.stack())) pandas.core.series.Series\n",
    "# 칼럼의 level은 1개 밖에 없으므로 stack(level=-1) 을 별도로 명기하지 않아도 됩니다.\n",
    "\n",
    "df = pd.DataFrame(data=np.arange(16).reshape(4,4),\n",
    "                  index= pd.MultiIndex.from_tuples([('kim','2019'), ('kim','2020'), ('lee','2019'), ('lee','2020')]),\n",
    "                  columns = ['com','phone','tv','note'],\n",
    "                dtype=int)\n",
    "\n",
    "#\n",
    "'''\n",
    "결측값이 있는 데이터셋을 stack() 할 때 결측값을 제거할지(dropna=True),\n",
    "아니면 결측값을 NaN으로 유지할지(dropna=False) 설정\n",
    "unstack(level=-1), unstack(level=0), unstack(level=1) 별로\n",
    "어떤 level이 칼럼으로 이동해서 unstack() 되는지 체크\n",
    "'''\n",
    "#ic(type(df.stack()))  Series\n",
    "ic(df.stack(dropna=True))"
   ],
   "metadata": {
    "collapsed": false,
    "pycharm": {
     "name": "#%%\n"
    }
   }
  },
  {
   "cell_type": "code",
   "execution_count": 50,
   "outputs": [
    {
     "name": "stderr",
     "output_type": "stream",
     "text": [
      "ic| df.unstack(level=-1,fill_value=None):      com      phone        tv      note     \n",
      "                                              2019 2020  2019 2020 2019 2020 2019 2020\n",
      "                                          kim    0    4     1    5    2    6    3    7\n",
      "                                          lee    8   12     9   13   10   14   11   15\n"
     ]
    },
    {
     "data": {
      "text/plain": "     com      phone        tv      note     \n    2019 2020  2019 2020 2019 2020 2019 2020\nkim    0    4     1    5    2    6    3    7\nlee    8   12     9   13   10   14   11   15",
      "text/html": "<div>\n<style scoped>\n    .dataframe tbody tr th:only-of-type {\n        vertical-align: middle;\n    }\n\n    .dataframe tbody tr th {\n        vertical-align: top;\n    }\n\n    .dataframe thead tr th {\n        text-align: left;\n    }\n</style>\n<table border=\"1\" class=\"dataframe\">\n  <thead>\n    <tr>\n      <th></th>\n      <th colspan=\"2\" halign=\"left\">com</th>\n      <th colspan=\"2\" halign=\"left\">phone</th>\n      <th colspan=\"2\" halign=\"left\">tv</th>\n      <th colspan=\"2\" halign=\"left\">note</th>\n    </tr>\n    <tr>\n      <th></th>\n      <th>2019</th>\n      <th>2020</th>\n      <th>2019</th>\n      <th>2020</th>\n      <th>2019</th>\n      <th>2020</th>\n      <th>2019</th>\n      <th>2020</th>\n    </tr>\n  </thead>\n  <tbody>\n    <tr>\n      <th>kim</th>\n      <td>0</td>\n      <td>4</td>\n      <td>1</td>\n      <td>5</td>\n      <td>2</td>\n      <td>6</td>\n      <td>3</td>\n      <td>7</td>\n    </tr>\n    <tr>\n      <th>lee</th>\n      <td>8</td>\n      <td>12</td>\n      <td>9</td>\n      <td>13</td>\n      <td>10</td>\n      <td>14</td>\n      <td>11</td>\n      <td>15</td>\n    </tr>\n  </tbody>\n</table>\n</div>"
     },
     "execution_count": 50,
     "metadata": {},
     "output_type": "execute_result"
    }
   ],
   "source": [
    "df = pd.DataFrame(data=np.arange(16).reshape(4,4),\n",
    "                  index= pd.MultiIndex.from_tuples([('kim','2019'), ('kim','2020'), ('lee','2019'), ('lee','2020')]),\n",
    "                  columns = ['com','phone','tv','note'],\n",
    "                dtype=int)\n",
    "\n",
    "#\n",
    "#ic(type(df.stack()))  Series\n",
    "ic(df.unstack(level=-1,fill_value=None))"
   ],
   "metadata": {
    "collapsed": false,
    "pycharm": {
     "name": "#%%\n"
    }
   }
  },
  {
   "cell_type": "code",
   "execution_count": 58,
   "outputs": [
    {
     "name": "stderr",
     "output_type": "stream",
     "text": [
      "ic| df:   customer_id product_code  purchase_count  purchase_amount\n",
      "        0         kim          com               1              100\n",
      "        1         kim        phone               2              200\n",
      "        2         lee           tv               3              300\n",
      "        3         lee          tab               4              400\n",
      "ic| df:   customer_id product_code         variable  value\n",
      "        0         kim          com   purchase_count      1\n",
      "        1         kim        phone   purchase_count      2\n",
      "        2         lee           tv   purchase_count      3\n",
      "        3         lee          tab   purchase_count      4\n",
      "        4         kim          com  purchase_amount    100\n",
      "        5         kim        phone  purchase_amount    200\n",
      "        6         lee           tv  purchase_amount    300\n",
      "        7         lee          tab  purchase_amount    400\n"
     ]
    },
    {
     "data": {
      "text/plain": "  customer_id product_code         variable  value\n0         kim          com   purchase_count      1\n1         kim        phone   purchase_count      2\n2         lee           tv   purchase_count      3\n3         lee          tab   purchase_count      4\n4         kim          com  purchase_amount    100\n5         kim        phone  purchase_amount    200\n6         lee           tv  purchase_amount    300\n7         lee          tab  purchase_amount    400",
      "text/html": "<div>\n<style scoped>\n    .dataframe tbody tr th:only-of-type {\n        vertical-align: middle;\n    }\n\n    .dataframe tbody tr th {\n        vertical-align: top;\n    }\n\n    .dataframe thead th {\n        text-align: right;\n    }\n</style>\n<table border=\"1\" class=\"dataframe\">\n  <thead>\n    <tr style=\"text-align: right;\">\n      <th></th>\n      <th>customer_id</th>\n      <th>product_code</th>\n      <th>variable</th>\n      <th>value</th>\n    </tr>\n  </thead>\n  <tbody>\n    <tr>\n      <th>0</th>\n      <td>kim</td>\n      <td>com</td>\n      <td>purchase_count</td>\n      <td>1</td>\n    </tr>\n    <tr>\n      <th>1</th>\n      <td>kim</td>\n      <td>phone</td>\n      <td>purchase_count</td>\n      <td>2</td>\n    </tr>\n    <tr>\n      <th>2</th>\n      <td>lee</td>\n      <td>tv</td>\n      <td>purchase_count</td>\n      <td>3</td>\n    </tr>\n    <tr>\n      <th>3</th>\n      <td>lee</td>\n      <td>tab</td>\n      <td>purchase_count</td>\n      <td>4</td>\n    </tr>\n    <tr>\n      <th>4</th>\n      <td>kim</td>\n      <td>com</td>\n      <td>purchase_amount</td>\n      <td>100</td>\n    </tr>\n    <tr>\n      <th>5</th>\n      <td>kim</td>\n      <td>phone</td>\n      <td>purchase_amount</td>\n      <td>200</td>\n    </tr>\n    <tr>\n      <th>6</th>\n      <td>lee</td>\n      <td>tv</td>\n      <td>purchase_amount</td>\n      <td>300</td>\n    </tr>\n    <tr>\n      <th>7</th>\n      <td>lee</td>\n      <td>tab</td>\n      <td>purchase_amount</td>\n      <td>400</td>\n    </tr>\n  </tbody>\n</table>\n</div>"
     },
     "execution_count": 58,
     "metadata": {},
     "output_type": "execute_result"
    }
   ],
   "source": [
    "'''\n",
    "melt() 는 ID 변수를 기준으로 원래 데이터셋에 있던 여러개의 칼럼 이름을\n",
    "'variable' 칼럼에 위에서 아래로 길게 쌓아놓고,\n",
    "'value' 칼럼에 ID와 variable에 해당하는 값을\n",
    "넣어주는 식으로 데이터를 재구조화\n",
    "'''\n",
    "# (1) pd.melt(data, id_vars=['id1', 'id2', ...]) 를 사용한 데이터 재구조화\n",
    "# pd.melt(df, id_vars=['customer_id', 'product_code'])\n",
    "\n",
    "# (2) pd.melt() 의 variable 이름, value 이름 부여하기 : var_name, value_name\n",
    "df = pd.DataFrame({\"customer_id\":['kim','kim','lee','lee'],\n",
    "               \"product_code\":['com','phone','tv','tab'],\n",
    "               \"purchase_count\":[1,2,3,4],\n",
    "               \"purchase_amount\":[100,200,300,400]})\n",
    "ic(df)\n",
    "df = pd.melt(df,id_vars=['customer_id','product_code'])\n",
    "ic(df)"
   ],
   "metadata": {
    "collapsed": false,
    "pycharm": {
     "name": "#%%\n"
    }
   }
  },
  {
   "cell_type": "code",
   "execution_count": 24,
   "outputs": [
    {
     "name": "stderr",
     "output_type": "stream",
     "text": [
      "ic| df:   customer_id product_code          pr_code  product_code_value\n",
      "        0         kim          com   purchase_count                   1\n",
      "        1         kim        phone   purchase_count                   2\n",
      "        2         lee           tv   purchase_count                   3\n",
      "        3         lee          tab   purchase_count                   4\n",
      "        4         kim          com  purchase_amount                 100\n",
      "        5         kim        phone  purchase_amount                 200\n",
      "        6         lee           tv  purchase_amount                 300\n",
      "        7         lee          tab  purchase_amount                 400\n"
     ]
    },
    {
     "data": {
      "text/plain": "  customer_id product_code          pr_code  product_code_value\n0         kim          com   purchase_count                   1\n1         kim        phone   purchase_count                   2\n2         lee           tv   purchase_count                   3\n3         lee          tab   purchase_count                   4\n4         kim          com  purchase_amount                 100\n5         kim        phone  purchase_amount                 200\n6         lee           tv  purchase_amount                 300\n7         lee          tab  purchase_amount                 400",
      "text/html": "<div>\n<style scoped>\n    .dataframe tbody tr th:only-of-type {\n        vertical-align: middle;\n    }\n\n    .dataframe tbody tr th {\n        vertical-align: top;\n    }\n\n    .dataframe thead th {\n        text-align: right;\n    }\n</style>\n<table border=\"1\" class=\"dataframe\">\n  <thead>\n    <tr style=\"text-align: right;\">\n      <th></th>\n      <th>customer_id</th>\n      <th>product_code</th>\n      <th>pr_code</th>\n      <th>product_code_value</th>\n    </tr>\n  </thead>\n  <tbody>\n    <tr>\n      <th>0</th>\n      <td>kim</td>\n      <td>com</td>\n      <td>purchase_count</td>\n      <td>1</td>\n    </tr>\n    <tr>\n      <th>1</th>\n      <td>kim</td>\n      <td>phone</td>\n      <td>purchase_count</td>\n      <td>2</td>\n    </tr>\n    <tr>\n      <th>2</th>\n      <td>lee</td>\n      <td>tv</td>\n      <td>purchase_count</td>\n      <td>3</td>\n    </tr>\n    <tr>\n      <th>3</th>\n      <td>lee</td>\n      <td>tab</td>\n      <td>purchase_count</td>\n      <td>4</td>\n    </tr>\n    <tr>\n      <th>4</th>\n      <td>kim</td>\n      <td>com</td>\n      <td>purchase_amount</td>\n      <td>100</td>\n    </tr>\n    <tr>\n      <th>5</th>\n      <td>kim</td>\n      <td>phone</td>\n      <td>purchase_amount</td>\n      <td>200</td>\n    </tr>\n    <tr>\n      <th>6</th>\n      <td>lee</td>\n      <td>tv</td>\n      <td>purchase_amount</td>\n      <td>300</td>\n    </tr>\n    <tr>\n      <th>7</th>\n      <td>lee</td>\n      <td>tab</td>\n      <td>purchase_amount</td>\n      <td>400</td>\n    </tr>\n  </tbody>\n</table>\n</div>"
     },
     "execution_count": 24,
     "metadata": {},
     "output_type": "execute_result"
    }
   ],
   "source": [
    "df = pd.DataFrame({\"customer_id\":['kim','kim','lee','lee'],\n",
    "               \"product_code\":['com','phone','tv','tab'],\n",
    "               \"purchase_count\":[1,2,3,4],\n",
    "               \"purchase_amount\":[100,200,300,400]})\n",
    "df = pd.melt(df,id_vars=['customer_id','product_code'],var_name='pr_code',value_name='product_code_value')\n",
    "ic(df)"
   ],
   "metadata": {
    "collapsed": false,
    "pycharm": {
     "name": "#%%\n"
    }
   }
  },
  {
   "cell_type": "code",
   "execution_count": 69,
   "outputs": [
    {
     "name": "stderr",
     "output_type": "stream",
     "text": [
      "ic| df:   Class1 Class2 Score1 Score2     value  seq\n",
      "        0      A      D    2.5    3.2  1.331587    0\n",
      "        1      B      E    1.2    1.3  0.715279    1\n",
      "        2      C      F    0.7    0.1 -1.545400    2\n"
     ]
    },
    {
     "ename": "TypeError",
     "evalue": "wide_to_long() missing 1 required positional argument: 'i'",
     "output_type": "error",
     "traceback": [
      "\u001B[1;31m---------------------------------------------------------------------------\u001B[0m",
      "\u001B[1;31mTypeError\u001B[0m                                 Traceback (most recent call last)",
      "\u001B[1;32m<ipython-input-69-bdea848a734b>\u001B[0m in \u001B[0;36m<module>\u001B[1;34m\u001B[0m\n\u001B[0;32m      8\u001B[0m \u001B[1;33m\u001B[0m\u001B[0m\n\u001B[0;32m      9\u001B[0m \u001B[0mic\u001B[0m\u001B[1;33m(\u001B[0m\u001B[0mdf\u001B[0m\u001B[1;33m)\u001B[0m\u001B[1;33m\u001B[0m\u001B[1;33m\u001B[0m\u001B[0m\n\u001B[1;32m---> 10\u001B[1;33m \u001B[0mdf\u001B[0m \u001B[1;33m=\u001B[0m \u001B[0mpd\u001B[0m\u001B[1;33m.\u001B[0m\u001B[0mwide_to_long\u001B[0m\u001B[1;33m(\u001B[0m\u001B[0mdf\u001B[0m\u001B[1;33m,\u001B[0m\u001B[1;33m[\u001B[0m\u001B[1;34m\"Class1\"\u001B[0m\u001B[1;33m,\u001B[0m \u001B[1;34m\"Class2\"\u001B[0m\u001B[1;33m]\u001B[0m\u001B[1;33m,\u001B[0m\u001B[0mj\u001B[0m\u001B[1;33m=\u001B[0m\u001B[1;34m'Score2'\u001B[0m\u001B[1;33m)\u001B[0m\u001B[1;33m\u001B[0m\u001B[1;33m\u001B[0m\u001B[0m\n\u001B[0m\u001B[0;32m     11\u001B[0m \u001B[1;33m\u001B[0m\u001B[0m\n\u001B[0;32m     12\u001B[0m \u001B[1;33m\u001B[0m\u001B[0m\n",
      "\u001B[1;31mTypeError\u001B[0m: wide_to_long() missing 1 required positional argument: 'i'"
     ]
    }
   ],
   "source": [
    "np.random.seed(10)\n",
    "df = pd.DataFrame({\"Class 1\":{0:\"A\",1:\"B\",2:\"C\"},\n",
    "                  \"Class 2\":{0:\"D\",1:\"E\",2:\"F\"},\n",
    "                  \"Score 1\":{0:\"2.5\",1:\"1.2\",2:\"0.7\"},\n",
    "                  \"Score 2\":{0:\"3.2\",1:\"1.3\",2:\"0.1\"},\n",
    "                   \"value\": dict(zip(range(3),np.random.randn(3)))})\n",
    "df[\"seq\"] = df.index\n",
    "ic(df)\n",
    "'''\n",
    "pd.wide_to_long() 함수를 써서 데이터를 재구조화\n",
    "wide_to_long()은 pivot() 이나 stack() 과는 다르게\n",
    "\"칼럼 이름의 앞부분\"과 나머지 \"칼럼 이름의 뒷부분\"을 구분해서,\n",
    "칼럼 이름의 앞부분을 칼럼 이름으로,\n",
    "칼럼 이름의 나머지 뒷부분을 행(row)의 원소로 해서\n",
    "세로로 길게(long~) 쌓아 줍니다.\n",
    "pd.widt_to_long() 함수를 한번 사용해서\n",
    "가로로 넓은 데이터(wide~)를 세로로 길게(long~) 재구조화 하시오.\n",
    "pd.wide_to_long(data, [\"col_prefix_1\", \"col_prefix_2\"], i=\"idx_1\", j=\"idx_2\")\n",
    "'''\n",
    "df = pd.wide_to_long(df, stubnames=['Class','Score'],i='seq',j='hakgi',sep=' ')\n",
    "# wide_to_long(데이터프레임, stubnames={})\n",
    "# stub 는 그루터기로 전체값에서 일부분의 값을 의미한다, Class 1, Class 2, Class 3 에서\n",
    "# 반복되는 Class 와 Store 라는 값만 취한다.\n",
    "# df, [\"Class-1\",\"Class-2\"],\n",
    "# i 는 DF 의 인덱스로 정한 값을 입력한다\n",
    "# j 는 stubname 에서 컬럼명으로 정의한 나머지 부분은 코딩하는 사람의 임의로 정한다\n",
    "# sep 는 구분자로 stubname 과 임의의 컬럼명 사이를 구분하는 패턴이다.\n",
    "# sep 에서 '' 이면, 구분자가 없는 상태가 되고, 예제처럼 띄어쓰기로 하려면\n",
    "# ' ' 반드시 스페이스바를 한 번 클릭해야 한다.\n",
    "ic(df)"
   ],
   "metadata": {
    "collapsed": false,
    "pycharm": {
     "name": "#%%\n"
    }
   }
  },
  {
   "cell_type": "code",
   "execution_count": 68,
   "outputs": [
    {
     "data": {
      "text/plain": "aa    A  B   \nbb    D  C  D\nrow          \nkim   3  0  0\nlee   0  2  0\npark  0  0  1",
      "text/html": "<div>\n<style scoped>\n    .dataframe tbody tr th:only-of-type {\n        vertical-align: middle;\n    }\n\n    .dataframe tbody tr th {\n        vertical-align: top;\n    }\n\n    .dataframe thead tr th {\n        text-align: left;\n    }\n\n    .dataframe thead tr:last-of-type th {\n        text-align: right;\n    }\n</style>\n<table border=\"1\" class=\"dataframe\">\n  <thead>\n    <tr>\n      <th>aa</th>\n      <th>A</th>\n      <th colspan=\"2\" halign=\"left\">B</th>\n    </tr>\n    <tr>\n      <th>bb</th>\n      <th>D</th>\n      <th>C</th>\n      <th>D</th>\n    </tr>\n    <tr>\n      <th>row</th>\n      <th></th>\n      <th></th>\n      <th></th>\n    </tr>\n  </thead>\n  <tbody>\n    <tr>\n      <th>kim</th>\n      <td>3</td>\n      <td>0</td>\n      <td>0</td>\n    </tr>\n    <tr>\n      <th>lee</th>\n      <td>0</td>\n      <td>2</td>\n      <td>0</td>\n    </tr>\n    <tr>\n      <th>park</th>\n      <td>0</td>\n      <td>0</td>\n      <td>1</td>\n    </tr>\n  </tbody>\n</table>\n</div>"
     },
     "execution_count": 68,
     "metadata": {},
     "output_type": "execute_result"
    }
   ],
   "source": [
    "'''\n",
    "pd.crosstab()\n",
    "범주형 변수로 되어있는 요인(factors)별로 교차분석(cross tabulations) 해서,\n",
    "행, 열 요인 기준 별로 빈도를 세어서 도수분포표(frequency table),\n",
    "교차표(contingency table) 를 생성한다\n",
    "\n",
    "# 범주형 변수란 고유한 값이나 범주 수가 제한된 변수(예: 성별 또는 종교)이다.\n",
    "# 교차분석(cross-tabulation analysis)은 '범주형'으로 구성된 자료들 간의 연관관계를 확인하기 위해\n",
    "   교차표를 만들어 관계를 확인하는 분석 방법이다.\n",
    "'''\n",
    "df = pd.DataFrame({\"학생ID\" :[\"kim\",\"kim\",\"kim\",\"lee\",\"lee\",\"park\"],\n",
    "                   \"1학기학점\":[\"A\",\"A\",\"A\",\"B\",\"B\",\"B\"],\n",
    "                   \"2학기학점\":[\"D\",\"D\",\"D\",\"C\",\"C\",\"D\"]})\n",
    "ic(df)\n",
    "\n",
    "# (1) 교차표(contingency table, frequency table) 만들기 : pd.crosstab(index, columns)\n",
    "# pd.crosstab(df['1학기학점'],df['2학기학점'])\n",
    "# (2) Multi-index, Multi-level로 교차표 만들기 : pd.crosstab([id1, id2], [col1, col2])\n",
    "pd.crosstab(df['학생ID'],[df['1학기학점'],df['2학기학점']])\n",
    "# (3) 교차표의 행 이름, 열 이름 부여 : pd.crosstab(rownames=['xx'], colnames=['aa'])\n",
    "pd.crosstab(df['학생ID'],[df['1학기학점'],df['2학기학점']],rownames=['rownames'],colnames=['aa','bb'])\n",
    "# (4) 교차표의 행 합, 열 합 추가하기 : pd.crosstab(margins=True)\n",
    "\n",
    "# (5) 구성비율로 교차표 만들기 : pd.crosstab(normalize=True)"
   ],
   "metadata": {
    "collapsed": false,
    "pycharm": {
     "name": "#%%\n"
    }
   }
  },
  {
   "cell_type": "code",
   "execution_count": null,
   "outputs": [],
   "source": [],
   "metadata": {
    "collapsed": false,
    "pycharm": {
     "name": "#%%\n"
    }
   }
  }
 ],
 "metadata": {
  "kernelspec": {
   "display_name": "Python 3",
   "language": "python",
   "name": "python3"
  },
  "language_info": {
   "codemirror_mode": {
    "name": "ipython",
    "version": 2
   },
   "file_extension": ".py",
   "mimetype": "text/x-python",
   "name": "python",
   "nbconvert_exporter": "python",
   "pygments_lexer": "ipython2",
   "version": "2.7.6"
  }
 },
 "nbformat": 4,
 "nbformat_minor": 0
}